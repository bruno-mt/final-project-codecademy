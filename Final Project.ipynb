{
 "cells": [
  {
   "cell_type": "markdown",
   "id": "72f614bc",
   "metadata": {},
   "source": [
    "# Final Project"
   ]
  },
  {
   "cell_type": "markdown",
   "id": "155e665f",
   "metadata": {},
   "source": [
    "### Table of Contents\n",
    "* [Goals](#Goals)\n",
    "* [Data](#Data)\n",
    "    * [Loading the Data](#section1_1)\n",
    "    * [Data Information](#section1_2)\n",
    "    * [Data Cleaning](#cleaning)\n",
    "        * [Adding an Age Column](#section2_1)\n",
    "        * [Checking the Education Variable](#section2_2)\n",
    "* [Exploratory Data Analysis](#EDA)\n",
    "    * [Big Picture](#section3_1)\n",
    "    * [Purchasing Behavior by Income](#section3_2)\n",
    "    * [More Purchasing Behavior by Income](#section3_3)\n",
    "    * [Purchasing Behavior by Education and Income](#section3_4)\n",
    "    * [Purchasing Behavior by Age](#section3_5)\n",
    "* [Conclusion](#conclusion)"
   ]
  },
  {
   "cell_type": "markdown",
   "id": "749889c7",
   "metadata": {},
   "source": [
    "### Goals <a class=\"anchor\" id=\"Goals\"></a>"
   ]
  },
  {
   "cell_type": "code",
   "execution_count": null,
   "id": "cf533914",
   "metadata": {},
   "outputs": [],
   "source": []
  },
  {
   "cell_type": "markdown",
   "id": "12d816d9",
   "metadata": {},
   "source": [
    "### Data"
   ]
  },
  {
   "cell_type": "code",
   "execution_count": null,
   "id": "f7ef2a82",
   "metadata": {},
   "outputs": [],
   "source": []
  },
  {
   "cell_type": "markdown",
   "id": "38caa9f1",
   "metadata": {},
   "source": [
    "#### Loading the Data"
   ]
  },
  {
   "cell_type": "code",
   "execution_count": null,
   "id": "97d302b0",
   "metadata": {},
   "outputs": [],
   "source": []
  },
  {
   "cell_type": "markdown",
   "id": "9db70d68",
   "metadata": {},
   "source": [
    "#### Data Information"
   ]
  },
  {
   "cell_type": "code",
   "execution_count": null,
   "id": "a464a759",
   "metadata": {},
   "outputs": [],
   "source": []
  },
  {
   "cell_type": "markdown",
   "id": "629b6f3d",
   "metadata": {},
   "source": [
    "#### Data Cleaning"
   ]
  },
  {
   "cell_type": "code",
   "execution_count": null,
   "id": "3a43fb95",
   "metadata": {},
   "outputs": [],
   "source": []
  },
  {
   "cell_type": "code",
   "execution_count": null,
   "id": "872cebac",
   "metadata": {},
   "outputs": [],
   "source": []
  },
  {
   "cell_type": "markdown",
   "id": "1ee58e56",
   "metadata": {},
   "source": [
    "### Exploratory Data Analysis"
   ]
  },
  {
   "cell_type": "code",
   "execution_count": null,
   "id": "a9f3b941",
   "metadata": {},
   "outputs": [],
   "source": []
  },
  {
   "cell_type": "code",
   "execution_count": null,
   "id": "fbc65ba6",
   "metadata": {},
   "outputs": [],
   "source": []
  },
  {
   "cell_type": "markdown",
   "id": "5bf08481",
   "metadata": {},
   "source": [
    "### Conclusion"
   ]
  },
  {
   "cell_type": "code",
   "execution_count": null,
   "id": "d7cebe68",
   "metadata": {},
   "outputs": [],
   "source": []
  }
 ],
 "metadata": {
  "kernelspec": {
   "display_name": "Python 3 (ipykernel)",
   "language": "python",
   "name": "python3"
  },
  "language_info": {
   "codemirror_mode": {
    "name": "ipython",
    "version": 3
   },
   "file_extension": ".py",
   "mimetype": "text/x-python",
   "name": "python",
   "nbconvert_exporter": "python",
   "pygments_lexer": "ipython3",
   "version": "3.11.7"
  }
 },
 "nbformat": 4,
 "nbformat_minor": 5
}
